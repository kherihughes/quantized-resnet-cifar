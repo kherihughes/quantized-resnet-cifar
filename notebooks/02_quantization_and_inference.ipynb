{
 "cells": [
  {
   "cell_type": "markdown",
   "metadata": {},
   "source": [
    "# Quantization and Inference Demo\n",
    "\n",
    "This notebook demonstrates the quantization process and inference capabilities of our ResNet-18 model. We'll:\n",
    "1. Load and quantize the trained model\n",
    "2. Compare performance metrics\n",
    "3. Visualize quantization effects\n",
    "4. Run comprehensive benchmarks"
   ]
  },
  {
   "cell_type": "markdown",
   "metadata": {},
   "source": [
    "## Setup and Imports\n",
    "First, let's import all necessary libraries and set up our environment."
   ]
  },
  {
   "cell_type": "code",
   "execution_count": 14,
   "metadata": {},
   "outputs": [
    {
     "name": "stdout",
     "output_type": "stream",
     "text": [
      "Using device: cpu\n"
     ]
    }
   ],
   "source": [
    "import os\n",
    "import sys\n",
    "import time\n",
    "import torch\n",
    "import numpy as np\n",
    "import matplotlib.pyplot as plt\n",
    "from tqdm.notebook import tqdm\n",
    "import seaborn as sns\n",
    "from typing import Dict, Tuple, List\n",
    "from torch import nn\n",
    "\n",
    "# Add project root to path\n",
    "sys.path.append('..')\n",
    "from src.models import create_resnet18\n",
    "from src.utils.data import get_cifar10_data\n",
    "from src.utils.benchmarking import evaluate_model_performance, print_benchmark_results\n",
    "from src.utils.visualization import plot_confusion_matrix, plot_misclassified_examples\n",
    "\n",
    "# Set random seeds\n",
    "torch.manual_seed(42)\n",
    "np.random.seed(42)\n",
    "\n",
    "# Use CPU for consistent benchmarking\n",
    "device = torch.device('cpu')\n",
    "print(f\"Using device: {device}\")"
   ]
  },
  {
   "cell_type": "markdown",
   "metadata": {},
   "source": [
    "## Utility Functions\n",
    "Define helper functions for model loading, memory profiling, and quantization."
   ]
  },
  {
   "cell_type": "code",
   "execution_count": 15,
   "metadata": {},
   "outputs": [],
   "source": [
    "def safe_load_model(model_path: str, device: torch.device) -> torch.nn.Module:\n",
    "    try:\n",
    "        model = create_resnet18()\n",
    "        state_dict = torch.load(model_path, map_location=device)\n",
    "        model.load_state_dict(state_dict)\n",
    "        model.to(device)\n",
    "        model.eval()\n",
    "        return model\n",
    "    except Exception as e:\n",
    "        print(f\"Error loading model from {model_path}: {str(e)}\")\n",
    "        raise\n",
    "\n",
    "def profile_model_memory(model: torch.nn.Module) -> Dict:\n",
    "    memory_stats = {}\n",
    "    total_params = 0\n",
    "    total_size = 0\n",
    "    \n",
    "    for name, param in model.named_parameters():\n",
    "        if param is not None:  # Check if parameter exists\n",
    "            param_size = param.numel() * param.element_size()\n",
    "            memory_stats[name] = {\n",
    "                'shape': list(param.shape),\n",
    "                'size_bytes': param_size,\n",
    "                'size_mb': param_size / (1024 * 1024)\n",
    "            }\n",
    "            total_params += param.numel()\n",
    "            total_size += param_size\n",
    "    \n",
    "    return {\n",
    "        'total_params': total_params,\n",
    "        'total_size_mb': total_size / (1024 * 1024),\n",
    "        'detailed_stats': memory_stats\n",
    "    }\n",
    "\n",
    "def quantize_model(model: torch.nn.Module, \n",
    "                  calibration_loader: torch.utils.data.DataLoader,\n",
    "                  num_calibration_batches: int = 10) -> torch.nn.Module:\n",
    "    try:\n",
    "        # Create a copy of the model for quantization\n",
    "        quantized_model = create_resnet18()\n",
    "        quantized_model.load_state_dict(model.state_dict())\n",
    "        quantized_model.to('cpu')  # Quantization must be done on CPU\n",
    "        quantized_model.eval()\n",
    "        \n",
    "        # Fuse layers\n",
    "        print(\"Fusing layers...\")\n",
    "        quantized_model.fuse_model()\n",
    "        \n",
    "        # Configure quantization\n",
    "        print(\"Configuring quantization...\")\n",
    "        quantized_model.qconfig = torch.quantization.get_default_qconfig('fbgemm')\n",
    "        torch.quantization.prepare(quantized_model, inplace=True)\n",
    "        \n",
    "        # Calibrate\n",
    "        print(\"Calibrating...\")\n",
    "        with torch.no_grad():\n",
    "            for i, (data, _) in enumerate(tqdm(calibration_loader, desc=\"Calibration\")):\n",
    "                data = data.to('cpu')\n",
    "                quantized_model(data)\n",
    "                if i >= num_calibration_batches:\n",
    "                    break\n",
    "        \n",
    "        # Convert to quantized model\n",
    "        print(\"Converting to quantized model...\")\n",
    "        torch.quantization.convert(quantized_model, inplace=True)\n",
    "        return quantized_model\n",
    "    \n",
    "    except Exception as e:\n",
    "        print(f\"Error during quantization: {str(e)}\")\n",
    "        raise"
   ]
  },
  {
   "cell_type": "markdown",
   "metadata": {},
   "source": [
    "## Benchmarking Functions\n",
    "Define functions for performance benchmarking and analysis."
   ]
  },
  {
   "cell_type": "code",
   "execution_count": 16,
   "metadata": {},
   "outputs": [],
   "source": [
    "def benchmark_inference(model: torch.nn.Module, \n",
    "                       dataset,\n",
    "                       batch_sizes: List[int] = [1, 4, 8, 16, 32, 64, 128]) -> Dict:\n",
    "    results = {}\n",
    "    \n",
    "    for batch_size in batch_sizes:\n",
    "        print(f\"\\nBenchmarking batch size: {batch_size}\")\n",
    "        loader = torch.utils.data.DataLoader(\n",
    "            dataset,\n",
    "            batch_size=batch_size,\n",
    "            shuffle=False,\n",
    "            num_workers=0,\n",
    "            pin_memory=False\n",
    "        )\n",
    "        \n",
    "        # Warmup\n",
    "        with torch.no_grad():\n",
    "            for i, (images, _) in enumerate(loader):\n",
    "                if i >= 5:  # 5 warmup batches\n",
    "                    break\n",
    "                _ = model(images)\n",
    "        \n",
    "        # Measure inference time\n",
    "        times = []\n",
    "        with torch.no_grad():\n",
    "            for images, _ in tqdm(loader, desc=\"Measuring\"):\n",
    "                start = time.perf_counter()\n",
    "                _ = model(images)\n",
    "                end = time.perf_counter()\n",
    "                times.append((end - start) * 1000)  # ms\n",
    "        \n",
    "        results[batch_size] = {\n",
    "            'avg_batch_time': np.mean(times),\n",
    "            'std_batch_time': np.std(times),\n",
    "            'avg_sample_time': np.mean(times) / batch_size\n",
    "        }\n",
    "    \n",
    "    return results"
   ]
  },
  {
   "cell_type": "markdown",
   "metadata": {},
   "source": [
    "## Visualization Functions\n",
    "Define functions for visualizing quantization effects and model analysis."
   ]
  },
  {
   "cell_type": "code",
   "execution_count": 17,
   "metadata": {},
   "outputs": [],
   "source": [
    "def visualize_quantization_results(orig_model, quant_model, test_loader, classes):\n",
    "    \"\"\"Visualize quantization effects with confusion matrices and misclassified examples.\"\"\"\n",
    "    # Get predictions\n",
    "    def get_predictions(model):\n",
    "        all_preds = []\n",
    "        all_targets = []\n",
    "        model.eval()\n",
    "        with torch.no_grad():\n",
    "            for images, targets in tqdm(test_loader, desc=\"Getting predictions\"):\n",
    "                outputs = model(images)\n",
    "                preds = outputs.argmax(dim=1)\n",
    "                all_preds.extend(preds.cpu().numpy())\n",
    "                all_targets.extend(targets.numpy())\n",
    "        return np.array(all_preds), np.array(all_targets)\n",
    "    \n",
    "    # Get predictions for both models\n",
    "    orig_preds, targets = get_predictions(orig_model)\n",
    "    quant_preds, _ = get_predictions(quant_model)\n",
    "    \n",
    "    # Plot confusion matrices\n",
    "    plt.figure(figsize=(20, 8))\n",
    "    \n",
    "    plt.subplot(1, 2, 1)\n",
    "    plot_confusion_matrix(targets, orig_preds, classes, \"Original Model Confusion Matrix\")\n",
    "    \n",
    "    plt.subplot(1, 2, 2)\n",
    "    plot_confusion_matrix(targets, quant_preds, classes, \"Quantized Model Confusion Matrix\")\n",
    "    \n",
    "    plt.tight_layout()\n",
    "    plt.show()\n",
    "    \n",
    "    # Plot misclassified examples\n",
    "    plot_misclassified_examples(test_loader.dataset, quant_preds, targets, classes)\n",
    "\n",
    "def analyze_layer_compression(orig_model, quant_model):\n",
    "    \"\"\"Analyze compression ratio for each layer.\"\"\"\n",
    "    orig_sizes = {}\n",
    "    quant_sizes = {}\n",
    "    \n",
    "    # Get layer sizes for both models\n",
    "    for name, module in orig_model.named_modules():\n",
    "        if isinstance(module, (nn.Conv2d, nn.Linear)):\n",
    "            orig_sizes[name] = sum(p.numel() * p.element_size() for p in module.parameters())\n",
    "    \n",
    "    for name, module in quant_model.named_modules():\n",
    "        if isinstance(module, (nn.Conv2d, nn.Linear)):\n",
    "            quant_sizes[name] = sum(p.numel() * p.element_size() for p in module.parameters())\n",
    "    \n",
    "    # Plot results\n",
    "    plt.figure(figsize=(12, 6))\n",
    "    layers = list(orig_sizes.keys())\n",
    "    x = np.arange(len(layers))\n",
    "    width = 0.35\n",
    "    \n",
    "    plt.bar(x - width/2, [orig_sizes[l]/1024 for l in layers], width, label='Original')\n",
    "    plt.bar(x + width/2, [quant_sizes[l]/1024 for l in layers], width, label='Quantized')\n",
    "    \n",
    "    plt.xlabel('Layers')\n",
    "    plt.ylabel('Size (KB)')\n",
    "    plt.title('Layer-wise Model Size Comparison')\n",
    "    plt.xticks(x, layers, rotation=45)\n",
    "    plt.legend()\n",
    "    plt.grid(True)\n",
    "    plt.tight_layout()\n",
    "    plt.show()\n",
    "    \n",
    "    # Print compression ratios\n",
    "    print(\"\\nLayer-wise Compression Analysis:\")\n",
    "    print(f\"{'Layer':<20} {'Original (KB)':<15} {'Quantized (KB)':<15} {'Reduction %':<10}\")\n",
    "    print(\"-\" * 60)\n",
    "    for layer in layers:\n",
    "        orig_kb = orig_sizes[layer]/1024\n",
    "        quant_kb = quant_sizes[layer]/1024\n",
    "        reduction = (1 - quant_kb/orig_kb) * 100\n",
    "        print(f\"{layer:<20} {orig_kb:<15.2f} {quant_kb:<15.2f} {reduction:<10.1f}\")"
   ]
  },
  {
   "cell_type": "markdown",
   "metadata": {},
   "source": [
    "## Main Execution\n",
    "Load models, perform quantization, and run analysis."
   ]
  },
  {
   "cell_type": "code",
   "execution_count": 18,
   "metadata": {},
   "outputs": [
    {
     "name": "stdout",
     "output_type": "stream",
     "text": [
      "Loading original model...\n",
      "Original model loaded: 42.63 MB\n",
      "\n",
      "Quantizing model...\n",
      "Fusing layers...\n",
      "Configuring quantization...\n",
      "Calibrating...\n"
     ]
    },
    {
     "name": "stderr",
     "output_type": "stream",
     "text": [
      "/home/syphinx/documentation/DLCV/FP/venv/lib/python3.10/site-packages/torch/ao/quantization/observer.py:229: UserWarning: Please use quant_min and quant_max to specify the range for observers.                     reduce_range will be deprecated in a future release of PyTorch.\n",
      "  warnings.warn(\n"
     ]
    },
    {
     "data": {
      "application/vnd.jupyter.widget-view+json": {
       "model_id": "ceda2f4cb048406aad8518a59968ffdc",
       "version_major": 2,
       "version_minor": 0
      },
      "text/plain": [
       "Calibration:   0%|          | 0/391 [00:00<?, ?it/s]"
      ]
     },
     "metadata": {},
     "output_type": "display_data"
    },
    {
     "name": "stdout",
     "output_type": "stream",
     "text": [
      "Converting to quantized model...\n",
      "\n",
      "Quantized model size: 0.01 MB\n",
      "Size reduction: 99.98%\n",
      "\n",
      "Running benchmarks...\n",
      "\n",
      "Benchmarking batch size: 1\n"
     ]
    },
    {
     "data": {
      "application/vnd.jupyter.widget-view+json": {
       "model_id": "fc277bb0193e45a9ba45732bda281870",
       "version_major": 2,
       "version_minor": 0
      },
      "text/plain": [
       "Measuring:   0%|          | 0/10000 [00:00<?, ?it/s]"
      ]
     },
     "metadata": {},
     "output_type": "display_data"
    },
    {
     "name": "stdout",
     "output_type": "stream",
     "text": [
      "\n",
      "Benchmarking batch size: 4\n"
     ]
    },
    {
     "data": {
      "application/vnd.jupyter.widget-view+json": {
       "model_id": "4a7152d9505f4237bd3a32e14b322cc6",
       "version_major": 2,
       "version_minor": 0
      },
      "text/plain": [
       "Measuring:   0%|          | 0/2500 [00:00<?, ?it/s]"
      ]
     },
     "metadata": {},
     "output_type": "display_data"
    },
    {
     "name": "stdout",
     "output_type": "stream",
     "text": [
      "\n",
      "Benchmarking batch size: 8\n"
     ]
    },
    {
     "data": {
      "application/vnd.jupyter.widget-view+json": {
       "model_id": "d7637e9fb750447d9fe5c91ede717bb2",
       "version_major": 2,
       "version_minor": 0
      },
      "text/plain": [
       "Measuring:   0%|          | 0/1250 [00:00<?, ?it/s]"
      ]
     },
     "metadata": {},
     "output_type": "display_data"
    },
    {
     "name": "stdout",
     "output_type": "stream",
     "text": [
      "\n",
      "Benchmarking batch size: 16\n"
     ]
    },
    {
     "data": {
      "application/vnd.jupyter.widget-view+json": {
       "model_id": "72d8735ea8094532bd7484d44c9dc19a",
       "version_major": 2,
       "version_minor": 0
      },
      "text/plain": [
       "Measuring:   0%|          | 0/625 [00:00<?, ?it/s]"
      ]
     },
     "metadata": {},
     "output_type": "display_data"
    },
    {
     "name": "stdout",
     "output_type": "stream",
     "text": [
      "\n",
      "Benchmarking batch size: 32\n"
     ]
    },
    {
     "data": {
      "application/vnd.jupyter.widget-view+json": {
       "model_id": "d0a8cae8490a4e6ca6d99db08b95206e",
       "version_major": 2,
       "version_minor": 0
      },
      "text/plain": [
       "Measuring:   0%|          | 0/313 [00:00<?, ?it/s]"
      ]
     },
     "metadata": {},
     "output_type": "display_data"
    },
    {
     "name": "stdout",
     "output_type": "stream",
     "text": [
      "\n",
      "Benchmarking batch size: 64\n"
     ]
    },
    {
     "data": {
      "application/vnd.jupyter.widget-view+json": {
       "model_id": "288e683aefb64275861f276375f027da",
       "version_major": 2,
       "version_minor": 0
      },
      "text/plain": [
       "Measuring:   0%|          | 0/157 [00:00<?, ?it/s]"
      ]
     },
     "metadata": {},
     "output_type": "display_data"
    },
    {
     "name": "stdout",
     "output_type": "stream",
     "text": [
      "\n",
      "Benchmarking batch size: 128\n"
     ]
    },
    {
     "data": {
      "application/vnd.jupyter.widget-view+json": {
       "model_id": "379d1326dde04ce9b70a4e5f7f3e1a1e",
       "version_major": 2,
       "version_minor": 0
      },
      "text/plain": [
       "Measuring:   0%|          | 0/79 [00:00<?, ?it/s]"
      ]
     },
     "metadata": {},
     "output_type": "display_data"
    },
    {
     "name": "stdout",
     "output_type": "stream",
     "text": [
      "\n",
      "Benchmarking batch size: 1\n"
     ]
    },
    {
     "data": {
      "application/vnd.jupyter.widget-view+json": {
       "model_id": "dd30b341c91f42929df5f505b2ef58f6",
       "version_major": 2,
       "version_minor": 0
      },
      "text/plain": [
       "Measuring:   0%|          | 0/10000 [00:00<?, ?it/s]"
      ]
     },
     "metadata": {},
     "output_type": "display_data"
    },
    {
     "name": "stdout",
     "output_type": "stream",
     "text": [
      "\n",
      "Benchmarking batch size: 4\n"
     ]
    },
    {
     "data": {
      "application/vnd.jupyter.widget-view+json": {
       "model_id": "c61a53d081a9437aa79db35b8e7d64ff",
       "version_major": 2,
       "version_minor": 0
      },
      "text/plain": [
       "Measuring:   0%|          | 0/2500 [00:00<?, ?it/s]"
      ]
     },
     "metadata": {},
     "output_type": "display_data"
    },
    {
     "name": "stdout",
     "output_type": "stream",
     "text": [
      "\n",
      "Benchmarking batch size: 8\n"
     ]
    },
    {
     "data": {
      "application/vnd.jupyter.widget-view+json": {
       "model_id": "bceb576aa77c48e1b48b412133e1de09",
       "version_major": 2,
       "version_minor": 0
      },
      "text/plain": [
       "Measuring:   0%|          | 0/1250 [00:00<?, ?it/s]"
      ]
     },
     "metadata": {},
     "output_type": "display_data"
    },
    {
     "name": "stdout",
     "output_type": "stream",
     "text": [
      "\n",
      "Benchmarking batch size: 16\n"
     ]
    },
    {
     "data": {
      "application/vnd.jupyter.widget-view+json": {
       "model_id": "030912eb4f5f46c29f7e122ea64be980",
       "version_major": 2,
       "version_minor": 0
      },
      "text/plain": [
       "Measuring:   0%|          | 0/625 [00:00<?, ?it/s]"
      ]
     },
     "metadata": {},
     "output_type": "display_data"
    },
    {
     "name": "stdout",
     "output_type": "stream",
     "text": [
      "\n",
      "Benchmarking batch size: 32\n"
     ]
    },
    {
     "data": {
      "application/vnd.jupyter.widget-view+json": {
       "model_id": "d713830cd4604a3db92b42fe197d182b",
       "version_major": 2,
       "version_minor": 0
      },
      "text/plain": [
       "Measuring:   0%|          | 0/313 [00:00<?, ?it/s]"
      ]
     },
     "metadata": {},
     "output_type": "display_data"
    },
    {
     "name": "stdout",
     "output_type": "stream",
     "text": [
      "\n",
      "Benchmarking batch size: 64\n"
     ]
    },
    {
     "data": {
      "application/vnd.jupyter.widget-view+json": {
       "model_id": "4bd871742d9041f98722c93490dab16f",
       "version_major": 2,
       "version_minor": 0
      },
      "text/plain": [
       "Measuring:   0%|          | 0/157 [00:00<?, ?it/s]"
      ]
     },
     "metadata": {},
     "output_type": "display_data"
    },
    {
     "name": "stdout",
     "output_type": "stream",
     "text": [
      "\n",
      "Benchmarking batch size: 128\n"
     ]
    },
    {
     "data": {
      "application/vnd.jupyter.widget-view+json": {
       "model_id": "bb3f64c6264e4f1d80c3542995b96530",
       "version_major": 2,
       "version_minor": 0
      },
      "text/plain": [
       "Measuring:   0%|          | 0/79 [00:00<?, ?it/s]"
      ]
     },
     "metadata": {},
     "output_type": "display_data"
    },
    {
     "data": {
      "image/png": "[encoded data removed]",
      "text/plain": [
       "<Figure size 1500x500 with 2 Axes>"
      ]
     },
     "metadata": {},
     "output_type": "display_data"
    },
    {
     "name": "stdout",
     "output_type": "stream",
     "text": [
      "\n",
      "Generating visualization results...\n"
     ]
    },
    {
     "data": {
      "application/vnd.jupyter.widget-view+json": {
       "model_id": "8953a1a306fa46dab236185634d08ef8",
       "version_major": 2,
       "version_minor": 0
      },
      "text/plain": [
       "Getting predictions:   0%|          | 0/79 [00:00<?, ?it/s]"
      ]
     },
     "metadata": {},
     "output_type": "display_data"
    },
    {
     "data": {
      "application/vnd.jupyter.widget-view+json": {
       "model_id": "3d5340ce78f24aad88f88a304f70396d",
       "version_major": 2,
       "version_minor": 0
      },
      "text/plain": [
       "Getting predictions:   0%|          | 0/79 [00:00<?, ?it/s]"
      ]
     },
     "metadata": {},
     "output_type": "display_data"
    },
    {
     "data": {
      "image/png": "[encoded data removed]",
      "text/plain": [
       "<Figure size 2000x800 with 2 Axes>"
      ]
     },
     "metadata": {},
     "output_type": "display_data"
    },
    {
     "name": "stdout",
     "output_type": "stream",
     "text": [
      "\n",
      "Analyzing layer-wise compression...\n",
      "Error: 'conv1'\n"
     ]
    },
    {
     "data": {
      "image/png": "[encoded data removed]",
      "text/plain": [
       "<Figure size 1200x600 with 1 Axes>"
      ]
     },
     "metadata": {},
     "output_type": "display_data"
    }
   ],
   "source": [
    "try:\n",
    "    # Load original model\n",
    "    print(\"Loading original model...\")\n",
    "    orig_model = safe_load_model('../models/resnet18_cifar10.pth', device)\n",
    "    orig_memory = profile_model_memory(orig_model)\n",
    "    print(f\"Original model loaded: {orig_memory['total_size_mb']:.2f} MB\")\n",
    "    \n",
    "    # Create data loaders\n",
    "    test_loader = get_cifar10_data(batch_size=128, train=False)\n",
    "    calibration_loader = get_cifar10_data(batch_size=128, train=True)\n",
    "    classes = test_loader.dataset.classes\n",
    "    \n",
    "    # Quantize model\n",
    "    print(\"\\nQuantizing model...\")\n",
    "    quant_model = quantize_model(orig_model, calibration_loader)\n",
    "    \n",
    "    # Save quantized model\n",
    "    os.makedirs('../models', exist_ok=True)\n",
    "    torch.save(quant_model.state_dict(), '../models/quantized_resnet18_cifar10.pth')\n",
    "    \n",
    "    # Profile quantized model\n",
    "    quant_memory = profile_model_memory(quant_model)\n",
    "    print(f\"\\nQuantized model size: {quant_memory['total_size_mb']:.2f} MB\")\n",
    "    print(f\"Size reduction: {(1 - quant_memory['total_size_mb']/orig_memory['total_size_mb'])*100:.2f}%\")\n",
    "    \n",
    "    # Run benchmarks\n",
    "    print(\"\\nRunning benchmarks...\")\n",
    "    orig_benchmarks = benchmark_inference(orig_model, test_loader.dataset)\n",
    "    quant_benchmarks = benchmark_inference(quant_model, test_loader.dataset)\n",
    "    \n",
    "    # Plot benchmark results\n",
    "    plt.figure(figsize=(15, 5))\n",
    "    \n",
    "    # Plot batch times\n",
    "    plt.subplot(1, 2, 1)\n",
    "    batch_sizes = list(orig_benchmarks.keys())\n",
    "    orig_times = [b['avg_batch_time'] for b in orig_benchmarks.values()]\n",
    "    quant_times = [b['avg_batch_time'] for b in quant_benchmarks.values()]\n",
    "    \n",
    "    plt.plot(batch_sizes, orig_times, 'b-', label='Original')\n",
    "    plt.plot(batch_sizes, quant_times, 'r-', label='Quantized')\n",
    "    plt.title('Batch Processing Time')\n",
    "    plt.xlabel('Batch Size')\n",
    "    plt.ylabel('Time (ms)')\n",
    "    plt.legend()\n",
    "    plt.grid(True)\n",
    "    \n",
    "    # Plot speedup\n",
    "    plt.subplot(1, 2, 2)\n",
    "    speedups = [o/q for o, q in zip(orig_times, quant_times)]\n",
    "    plt.plot(batch_sizes, speedups, 'g-')\n",
    "    plt.title('Quantization Speedup')\n",
    "    plt.xlabel('Batch Size')\n",
    "    plt.ylabel('Speedup Factor')\n",
    "    plt.grid(True)\n",
    "    \n",
    "    plt.tight_layout()\n",
    "    plt.show()\n",
    "    \n",
    "    # Generate additional visualizations\n",
    "    print(\"\\nGenerating visualization results...\")\n",
    "    visualize_quantization_results(orig_model, quant_model, test_loader, classes)\n",
    "    \n",
    "    print(\"\\nAnalyzing layer-wise compression...\")\n",
    "    analyze_layer_compression(orig_model, quant_model)\n",
    "    \n",
    "    # Save results\n",
    "    os.makedirs('../results', exist_ok=True)\n",
    "    results = {\n",
    "        'original': {\n",
    "            'memory': orig_memory,\n",
    "            'benchmarks': orig_benchmarks\n",
    "        },\n",
    "        'quantized': {\n",
    "            'memory': quant_memory,\n",
    "            'benchmarks': quant_benchmarks\n",
    "        }\n",
    "    }\n",
    "    torch.save(results, '../results/quantization_benchmarks.pt')\n",
    "    print(\"\\nResults saved successfully!\")\n",
    "\n",
    "except Exception as e:\n",
    "    print(f\"Error: {str(e)}\")"
   ]
  },
  {
   "cell_type": "markdown",
   "metadata": {},
   "source": [
    "## Conclusion\n",
    "\n",
    "This notebook has:\n",
    "1. Loaded and quantized the ResNet-18 model\n",
    "2. Analyzed model size reduction and memory usage\n",
    "3. Benchmarked inference performance\n",
    "4. Visualized quantization effects through confusion matrices\n",
    "5. Analyzed layer-wise compression ratios\n",
    "6. Saved comprehensive results for further analysis\n",
    "\n",
    "The quantized model is saved at '../models/quantized_resnet18_cifar10.pth' and \n",
    "detailed benchmarking results are saved at '../results/quantization_benchmarks.pt'."
   ]
  }
 ],
 "metadata": {
  "kernelspec": {
   "display_name": "venv",
   "language": "python",
   "name": "python3"
  },
  "language_info": {
   "codemirror_mode": {
    "name": "ipython",
    "version": 3
   },
   "file_extension": ".py",
   "mimetype": "text/x-python",
   "name": "python",
   "nbconvert_exporter": "python",
   "pygments_lexer": "ipython3",
   "version": "3.10.12"
  }
 },
 "nbformat": 4,
 "nbformat_minor": 2
}
